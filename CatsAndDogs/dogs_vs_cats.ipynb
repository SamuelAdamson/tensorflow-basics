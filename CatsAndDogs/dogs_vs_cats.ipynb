{
 "cells": [
  {
   "cell_type": "markdown",
   "metadata": {},
   "source": [
    "# Classifying Color Images - Dogs, Cats\n",
    "### Author: Samuel Adamson\n",
    "### Tensorflow, Google ML Datasets, Numpy, MatPlotLib\n",
    "### Last Edited 01/01/2022"
   ]
  },
  {
   "cell_type": "code",
   "execution_count": null,
   "metadata": {},
   "outputs": [],
   "source": [
    "# Imports\n",
    "import tensorflow as tf\n",
    "import tensorflow.keras.preprocessing.image as imageDataGenerator\n",
    "import numpy as np\n",
    "import matplotlib.pyplot as plt\n",
    "import os\n",
    "\n",
    "# Set logging for errors only\n",
    "os.environ['TF_CPP_MIN_LOG_LEVEL'] = '2'# "
   ]
  },
  {
   "cell_type": "markdown",
   "metadata": {},
   "source": [
    "Download Data from Google ML Dataset <br>\n",
    "Unzip Data <br>\n",
    "Store directories with different data types: <br>\n",
    "&emsp; Training Data <br>\n",
    "&emsp; Validation Data <br>\n",
    "<br>\n",
    "Evaluate data - Number of data points in each category"
   ]
  },
  {
   "cell_type": "code",
   "execution_count": null,
   "metadata": {},
   "outputs": [],
   "source": [
    "# Data url for download\n",
    "DATA_URL = 'https://storage/googleapis.com/mledu-datasets/cats_and_dogs_filtered.zip'\n",
    "# Download, store in directory, extract from .zip\n",
    "dir = tf.keras.utils.get_file('cats_and_dogs_filtered.zip', origin=DATA_URL, extract=True)\n",
    "\n",
    "# Store path to each type of data (training/validation)\n",
    "data_dir = os.path.join(os.path.dirname(dir), 'cats_and_dogs_filtered')\n",
    "train_dir = os.path.join(os.path.dirname(data_dir), 'train')\n",
    "valid_dir = os.path.join(os.path.dirname(data_dir), 'validation')\n",
    "\n",
    "# Store path to each type of image classification\n",
    "train_cats_dir = os.path.join(os.path.dirname(train_dir), 'cats')\n",
    "train_dogs_dir = os.path.join(os.path.dirname(train_dir), 'dogs')\n",
    "valid_cats_dir = os.path.join(os.path.dirname(valid_dir), 'cats')\n",
    "valid_dogs_dir = os.path.join(os.path.dirname(valid_dir), 'dogs')\n",
    "\n",
    "\n",
    "# Number of validation images\n",
    "num_val = len(os.listdir(valid_cats_dir)) + len(os.listdir(valid_dogs_dir))\n",
    "print(f'Number of validation images: {num_val}')\n",
    "\n",
    "# Number of training images\n",
    "num_train = len(os.listdir(train_cats_dir)) + len(os.listdir(train_dogs_dir))\n",
    "print(f'Number of training images: {num_train}')\n",
    "print('---')\n",
    "\n",
    "# Number of training / validation cats\n",
    "num_train_cats = len(os.listdir(train_cats_dir))\n",
    "num_valid_cats = len(os.listdir(valid_cats_dir))\n",
    "tot_cats = num_train_cats + num_valid_cats\n",
    "print(f'Number of training cat images: {num_train_cats}')\n",
    "print(f'Number of validation cat images: {num_valid_cats}')\n",
    "print(f'Total number of cat images: {tot_cats}')\n",
    "print('---')\n",
    "\n",
    "# Number of training / validation dogs\n",
    "num_train_dogs = len(os.listdir(train_dogs_dir))\n",
    "num_valid_dogs = len(os.listdir(valid_dogs_dir))\n",
    "tot_dogs = num_train_dogs + num_valid_dogs\n",
    "print(f'Number of training dog images: {num_train_dogs}')\n",
    "print(f'Number of validation dog images: {num_valid_dogs}')\n",
    "print(f'Total number of dog images: {tot_dogs}')"
   ]
  },
  {
   "cell_type": "markdown",
   "metadata": {},
   "source": []
  }
 ],
 "metadata": {
  "interpreter": {
   "hash": "f0b20b1a19b167b80ac33a2e48a60a135c96ac935154df81504b081f0383a4ac"
  },
  "kernelspec": {
   "display_name": "Python 3.9.7 64-bit (conda)",
   "language": "python",
   "name": "python3"
  },
  "language_info": {
   "name": "python",
   "version": "3.9.7"
  },
  "orig_nbformat": 4
 },
 "nbformat": 4,
 "nbformat_minor": 2
}
